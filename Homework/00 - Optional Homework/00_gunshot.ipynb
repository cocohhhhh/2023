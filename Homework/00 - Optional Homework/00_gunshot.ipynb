{
 "cells": [
  {
   "cell_type": "code",
   "execution_count": 1,
   "metadata": {},
   "outputs": [],
   "source": [
    "import pandas as pd\n",
    "import numpy as np\n",
    "import matplotlib.pyplot as plt\n",
    "\n",
    "%matplotlib inline"
   ]
  },
  {
   "cell_type": "code",
   "execution_count": 12,
   "metadata": {},
   "outputs": [
    {
     "data": {
      "text/html": [
       "<div>\n",
       "<style scoped>\n",
       "    .dataframe tbody tr th:only-of-type {\n",
       "        vertical-align: middle;\n",
       "    }\n",
       "\n",
       "    .dataframe tbody tr th {\n",
       "        vertical-align: top;\n",
       "    }\n",
       "\n",
       "    .dataframe thead th {\n",
       "        text-align: right;\n",
       "    }\n",
       "</style>\n",
       "<table border=\"1\" class=\"dataframe\">\n",
       "  <thead>\n",
       "    <tr style=\"text-align: right;\">\n",
       "      <th></th>\n",
       "      <th>Unnamed: 0</th>\n",
       "      <th>Intent</th>\n",
       "      <th>Gender</th>\n",
       "      <th>Age</th>\n",
       "      <th>Race</th>\n",
       "      <th>Deaths</th>\n",
       "      <th>Population</th>\n",
       "      <th>Rate</th>\n",
       "    </tr>\n",
       "  </thead>\n",
       "  <tbody>\n",
       "    <tr>\n",
       "      <th>0</th>\n",
       "      <td>1</td>\n",
       "      <td>None selected</td>\n",
       "      <td>None selected</td>\n",
       "      <td>None selected</td>\n",
       "      <td>None selected</td>\n",
       "      <td>33599</td>\n",
       "      <td>316299978</td>\n",
       "      <td>10.6</td>\n",
       "    </tr>\n",
       "    <tr>\n",
       "      <th>1</th>\n",
       "      <td>2</td>\n",
       "      <td>None selected</td>\n",
       "      <td>None selected</td>\n",
       "      <td>None selected</td>\n",
       "      <td>White</td>\n",
       "      <td>22079</td>\n",
       "      <td>197369634</td>\n",
       "      <td>11.2</td>\n",
       "    </tr>\n",
       "    <tr>\n",
       "      <th>2</th>\n",
       "      <td>3</td>\n",
       "      <td>None selected</td>\n",
       "      <td>None selected</td>\n",
       "      <td>None selected</td>\n",
       "      <td>Black</td>\n",
       "      <td>7765</td>\n",
       "      <td>38896382</td>\n",
       "      <td>20.0</td>\n",
       "    </tr>\n",
       "    <tr>\n",
       "      <th>3</th>\n",
       "      <td>4</td>\n",
       "      <td>None selected</td>\n",
       "      <td>None selected</td>\n",
       "      <td>None selected</td>\n",
       "      <td>Hispanic</td>\n",
       "      <td>3007</td>\n",
       "      <td>54049078</td>\n",
       "      <td>5.6</td>\n",
       "    </tr>\n",
       "    <tr>\n",
       "      <th>4</th>\n",
       "      <td>5</td>\n",
       "      <td>None selected</td>\n",
       "      <td>None selected</td>\n",
       "      <td>None selected</td>\n",
       "      <td>Asian/Pacific Islander</td>\n",
       "      <td>442</td>\n",
       "      <td>16315561</td>\n",
       "      <td>2.7</td>\n",
       "    </tr>\n",
       "  </tbody>\n",
       "</table>\n",
       "</div>"
      ],
      "text/plain": [
       "   Unnamed: 0         Intent         Gender            Age  \\\n",
       "0           1  None selected  None selected  None selected   \n",
       "1           2  None selected  None selected  None selected   \n",
       "2           3  None selected  None selected  None selected   \n",
       "3           4  None selected  None selected  None selected   \n",
       "4           5  None selected  None selected  None selected   \n",
       "\n",
       "                     Race  Deaths  Population  Rate  \n",
       "0           None selected   33599   316299978  10.6  \n",
       "1                   White   22079   197369634  11.2  \n",
       "2                   Black    7765    38896382  20.0  \n",
       "3                Hispanic    3007    54049078   5.6  \n",
       "4  Asian/Pacific Islander     442    16315561   2.7  "
      ]
     },
     "execution_count": 12,
     "metadata": {},
     "output_type": "execute_result"
    }
   ],
   "source": [
    "data = pd.read_csv('https://raw.githubusercontent.com/fivethirtyeight/guns-data/master/interactive_data.csv')\n",
    "data.head()"
   ]
  },
  {
   "cell_type": "code",
   "execution_count": 19,
   "metadata": {},
   "outputs": [
    {
     "data": {
      "text/plain": [
       "<Axes: title={'center': 'Gun Deaths by Intent'}, xlabel='Intention', ylabel='Percent of Total Deaths'>"
      ]
     },
     "execution_count": 19,
     "metadata": {},
     "output_type": "execute_result"
    },
    {
     "data": {
      "image/png": "[encoded data removed]",
      "text/plain": [
       "<Figure size 1000x600 with 1 Axes>"
      ]
     },
     "metadata": {},
     "output_type": "display_data"
    }
   ],
   "source": [
    "data['Deaths'] = data['Deaths'].astype(int)\n",
    "death_stats = data.groupby('Intent')['Deaths'].sum() / data['Deaths'].sum() * 100\n",
    "death_stats = death_stats.sort_values(ascending=False)\n",
    "death_stats.plot(kind='bar', figsize=(10, 6), title='Gun Deaths by Intent', ylabel='Percent of Total Deaths', xlabel='Intention')"
   ]
  },
  {
   "cell_type": "code",
   "execution_count": 22,
   "metadata": {},
   "outputs": [
    {
     "data": {
      "text/plain": [
       "Gender\n",
       "Female            6.878027\n",
       "Male             43.122566\n",
       "None selected    49.999406\n",
       "Name: Deaths, dtype: float64"
      ]
     },
     "execution_count": 22,
     "metadata": {},
     "output_type": "execute_result"
    }
   ],
   "source": [
    "suicide_data = data[data['Intent'] == 'Suicide']\n",
    "suicide_gender_stats = suicide_data.groupby('Gender')['Deaths'].sum() / suicide_data['Deaths'].sum() * 100\n",
    "suicide_gender_stats"
   ]
  },
  {
   "cell_type": "code",
   "execution_count": 28,
   "metadata": {},
   "outputs": [
    {
     "data": {
      "text/html": [
       "<div>\n",
       "<style scoped>\n",
       "    .dataframe tbody tr th:only-of-type {\n",
       "        vertical-align: middle;\n",
       "    }\n",
       "\n",
       "    .dataframe tbody tr th {\n",
       "        vertical-align: top;\n",
       "    }\n",
       "\n",
       "    .dataframe thead th {\n",
       "        text-align: right;\n",
       "    }\n",
       "</style>\n",
       "<table border=\"1\" class=\"dataframe\">\n",
       "  <thead>\n",
       "    <tr style=\"text-align: right;\">\n",
       "      <th></th>\n",
       "      <th>Unnamed: 0</th>\n",
       "      <th>Intent</th>\n",
       "      <th>Gender</th>\n",
       "      <th>Age</th>\n",
       "      <th>Race</th>\n",
       "      <th>Deaths</th>\n",
       "      <th>Population</th>\n",
       "      <th>Rate</th>\n",
       "    </tr>\n",
       "  </thead>\n",
       "  <tbody>\n",
       "    <tr>\n",
       "      <th>300</th>\n",
       "      <td>301</td>\n",
       "      <td>Homicide</td>\n",
       "      <td>Male</td>\n",
       "      <td>15 - 34</td>\n",
       "      <td>None selected</td>\n",
       "      <td>6520</td>\n",
       "      <td>44017869</td>\n",
       "      <td>14.8</td>\n",
       "    </tr>\n",
       "    <tr>\n",
       "      <th>301</th>\n",
       "      <td>302</td>\n",
       "      <td>Homicide</td>\n",
       "      <td>Male</td>\n",
       "      <td>15 - 34</td>\n",
       "      <td>White</td>\n",
       "      <td>913</td>\n",
       "      <td>24831032</td>\n",
       "      <td>3.7</td>\n",
       "    </tr>\n",
       "    <tr>\n",
       "      <th>302</th>\n",
       "      <td>303</td>\n",
       "      <td>Homicide</td>\n",
       "      <td>Male</td>\n",
       "      <td>15 - 34</td>\n",
       "      <td>Black</td>\n",
       "      <td>4312</td>\n",
       "      <td>5869943</td>\n",
       "      <td>73.5</td>\n",
       "    </tr>\n",
       "    <tr>\n",
       "      <th>303</th>\n",
       "      <td>304</td>\n",
       "      <td>Homicide</td>\n",
       "      <td>Male</td>\n",
       "      <td>15 - 34</td>\n",
       "      <td>Hispanic</td>\n",
       "      <td>1166</td>\n",
       "      <td>9379683</td>\n",
       "      <td>12.4</td>\n",
       "    </tr>\n",
       "    <tr>\n",
       "      <th>304</th>\n",
       "      <td>305</td>\n",
       "      <td>Homicide</td>\n",
       "      <td>Male</td>\n",
       "      <td>15 - 34</td>\n",
       "      <td>Asian/Pacific Islander</td>\n",
       "      <td>76</td>\n",
       "      <td>2415040</td>\n",
       "      <td>3.1</td>\n",
       "    </tr>\n",
       "  </tbody>\n",
       "</table>\n",
       "</div>"
      ],
      "text/plain": [
       "     Unnamed: 0    Intent Gender      Age                    Race  Deaths  \\\n",
       "300         301  Homicide   Male  15 - 34           None selected    6520   \n",
       "301         302  Homicide   Male  15 - 34                   White     913   \n",
       "302         303  Homicide   Male  15 - 34                   Black    4312   \n",
       "303         304  Homicide   Male  15 - 34                Hispanic    1166   \n",
       "304         305  Homicide   Male  15 - 34  Asian/Pacific Islander      76   \n",
       "\n",
       "     Population  Rate  \n",
       "300    44017869  14.8  \n",
       "301    24831032   3.7  \n",
       "302     5869943  73.5  \n",
       "303     9379683  12.4  \n",
       "304     2415040   3.1  "
      ]
     },
     "execution_count": 28,
     "metadata": {},
     "output_type": "execute_result"
    }
   ],
   "source": [
    "homicide_male_1534_data = data[(data['Intent'] == 'Homicide') & (data['Gender'] == 'Male') & (data['Age'] == '15 - 34')]\n",
    "homicide_male_1534_data.head()\n"
   ]
  },
  {
   "cell_type": "code",
   "execution_count": 29,
   "metadata": {},
   "outputs": [
    {
     "data": {
      "text/plain": [
       "Race\n",
       "Asian/Pacific Islander     0.582777\n",
       "Black                     33.064949\n",
       "Hispanic                   8.941032\n",
       "None selected             49.996166\n",
       "Other                      0.414079\n",
       "White                      7.000997\n",
       "Name: Deaths, dtype: float64"
      ]
     },
     "execution_count": 29,
     "metadata": {},
     "output_type": "execute_result"
    }
   ],
   "source": [
    "homicide_male_1534_stats = homicide_male_1534_data.groupby('Race')['Deaths'].sum() / homicide_male_1534_data['Deaths'].sum() * 100\n",
    "homicide_male_1534_stats"
   ]
  },
  {
   "cell_type": "code",
   "execution_count": 30,
   "metadata": {},
   "outputs": [
    {
     "data": {
      "text/plain": [
       "Gender\n",
       "Female           0.076401\n",
       "Male             0.423621\n",
       "None selected    0.499979\n",
       "Name: Deaths, dtype: float64"
      ]
     },
     "execution_count": 30,
     "metadata": {},
     "output_type": "execute_result"
    }
   ],
   "source": [
    "homicide_data = data[data['Intent'] == 'Homicide']\n",
    "homicide_stats = homicide_data.groupby('Gender')['Deaths'].sum() / homicide_data['Deaths'].sum()\n",
    "homicide_stats"
   ]
  },
  {
   "cell_type": "code",
   "execution_count": null,
   "metadata": {},
   "outputs": [],
   "source": []
  }
 ],
 "metadata": {
  "kernelspec": {
   "display_name": "ada",
   "language": "python",
   "name": "python3"
  },
  "language_info": {
   "codemirror_mode": {
    "name": "ipython",
    "version": 3
   },
   "file_extension": ".py",
   "mimetype": "text/x-python",
   "name": "python",
   "nbconvert_exporter": "python",
   "pygments_lexer": "ipython3",
   "version": "3.9.18"
  },
  "orig_nbformat": 4
 },
 "nbformat": 4,
 "nbformat_minor": 2
}
